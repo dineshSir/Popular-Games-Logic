{
 "cells": [
  {
   "cell_type": "markdown",
   "id": "77a53387-d403-4f93-9e2a-cc5585766ae2",
   "metadata": {},
   "source": [
    "# TicTacToe Game - Traditional Way"
   ]
  },
  {
   "cell_type": "code",
   "execution_count": null,
   "id": "d6d0875b-224e-4de2-bfb5-e5a49af6dce4",
   "metadata": {},
   "outputs": [],
   "source": [
    "def welcome_note():\n",
    "    print(\"You are Welcome, lets begin with the game:\\n------------------------------------------\")\n",
    "    return\n",
    "    \n",
    "\n",
    "def set_symbols():\n",
    "    while True:\n",
    "        symbol_1 = input(\"Enter the symbol for Player1 (cannot be 0): \")\n",
    "        if symbol_1 == \"0\": \n",
    "            print(\"Cannot be 0. Try another symbol.\")\n",
    "            continue\n",
    "        while True:\n",
    "            symbol_2 = input(\"Enter the unique symbol for Player2 (cannot be 0 and selection by Player1):\")\n",
    "            if symbol_2 == \"0\" or symbol_2 == symbol_1:\n",
    "                print(f\"Cannot be {symbol_2}. Try another symbol.\")\n",
    "                continue\n",
    "            break\n",
    "        break\n",
    "    return [symbol_1, symbol_2]\n",
    "    \n",
    "\n",
    "def update_board(symbol, x, y, board):\n",
    "    board[x][y] = symbol\n",
    "    print(f\"Symbol {symbol} Placed, board now:\")\n",
    "    for value in board.values():\n",
    "        print(value)\n",
    "    return board\n",
    "\n",
    "def check_win(board, symbol):\n",
    "    win_condition = [symbol, symbol, symbol]\n",
    "\n",
    "    #row check\n",
    "    if any([board[i][j] for j in range(3)] == win_condition for i in range(3)):\n",
    "        return True\n",
    "    #column check\n",
    "    if any([board[j][i] for j in range(3)] == win_condition for i in range(3)):\n",
    "        return True\n",
    "    #positive diagonal check\n",
    "    if [board[i][i] for i in range(3)] == win_condition:\n",
    "        return True\n",
    "    #negative diagonal check\n",
    "    if [board[i][2-i] for i in range(2,-1,-1)] == win_condition:\n",
    "        return True\n",
    "    return False\n",
    "    \n",
    "\n",
    "def take_input_positions(symbol_1, symbol_2, board):\n",
    "    valid_positions = [(x, y) for x in range(3) for y in range(3)]\n",
    "    current_player = symbol_1\n",
    "    count = 0\n",
    "    while True:\n",
    "        print(f\"Enter the postition to place {current_player}:\")\n",
    "        x, y = int(input(\"x:\")), int(input(\"y:\"))\n",
    "     \n",
    "        if (x, y) not in valid_positions or board[x][y] != 0:\n",
    "            print(\"Either the place is occupied or the position is invalid. Please select another position.\")\n",
    "            continue\n",
    "            \n",
    "        else:\n",
    "            board = update_board(current_player, x, y, board)\n",
    "            if check_win(board, current_player):\n",
    "                print(f\"Congratulations {current_player}, you won.\")\n",
    "                return\n",
    "                \n",
    "        if current_player == symbol_1:\n",
    "            current_player = symbol_2\n",
    "        else:\n",
    "            current_player = symbol_1\n",
    "        count += 1\n",
    "        if count == 9:\n",
    "            break\n",
    "            \n",
    "    print(\"A draw game.\")\n",
    "\n",
    "                \n",
    "def start_game():\n",
    "    board = {\n",
    "            0: [0, 0, 0],\n",
    "            1: [0, 0, 0],\n",
    "            2: [0, 0, 0],\n",
    "        }\n",
    "    welcome_note()\n",
    "    symbol_1, symbol_2 = set_symbols()\n",
    "    take_input_positions(symbol_1, symbol_2, board)\n",
    "    \n",
    "    \n",
    "start_game()\n",
    "\n",
    "\n"
   ]
  },
  {
   "cell_type": "markdown",
   "id": "c04192d2-7c31-40fd-89a5-b47bc579a7e2",
   "metadata": {},
   "source": [
    "# TicTacToe - Class Implementation"
   ]
  },
  {
   "cell_type": "code",
   "execution_count": 1,
   "id": "c4bb4e3d-249e-4c2a-bdd3-536603387311",
   "metadata": {},
   "outputs": [
    {
     "name": "stdout",
     "output_type": "stream",
     "text": [
      "You are Welcome, lets begin with the game:\n",
      "------------------------------------------\n"
     ]
    },
    {
     "name": "stdin",
     "output_type": "stream",
     "text": [
      "Enter the symbol for Player1 (cannot be 0):  *\n",
      "Enter the unique symbol for Player2 (cannot be 0 and selection by Player1): +\n"
     ]
    },
    {
     "name": "stdout",
     "output_type": "stream",
     "text": [
      "Enter the postition to place *:\n"
     ]
    },
    {
     "name": "stdin",
     "output_type": "stream",
     "text": [
      "x: 1\n",
      "y: 1\n"
     ]
    },
    {
     "name": "stdout",
     "output_type": "stream",
     "text": [
      "Symbol * Placed, board now:\n",
      "[0, 0, 0]\n",
      "[0, '*', 0]\n",
      "[0, 0, 0]\n",
      "Enter the postition to place +:\n"
     ]
    },
    {
     "name": "stdin",
     "output_type": "stream",
     "text": [
      "x: 0\n",
      "y: 2\n"
     ]
    },
    {
     "name": "stdout",
     "output_type": "stream",
     "text": [
      "Symbol + Placed, board now:\n",
      "[0, 0, '+']\n",
      "[0, '*', 0]\n",
      "[0, 0, 0]\n",
      "Enter the postition to place *:\n"
     ]
    },
    {
     "name": "stdin",
     "output_type": "stream",
     "text": [
      "x: 0\n",
      "y: 0\n"
     ]
    },
    {
     "name": "stdout",
     "output_type": "stream",
     "text": [
      "Symbol * Placed, board now:\n",
      "['*', 0, '+']\n",
      "[0, '*', 0]\n",
      "[0, 0, 0]\n",
      "Enter the postition to place +:\n"
     ]
    },
    {
     "name": "stdin",
     "output_type": "stream",
     "text": [
      "x: 0\n",
      "y: 0\n"
     ]
    },
    {
     "name": "stdout",
     "output_type": "stream",
     "text": [
      "Either the place is occupied or the position is invalid. Please select another position.\n",
      "Enter the postition to place +:\n"
     ]
    },
    {
     "name": "stdin",
     "output_type": "stream",
     "text": [
      "x: 2\n",
      "y: 0\n"
     ]
    },
    {
     "name": "stdout",
     "output_type": "stream",
     "text": [
      "Symbol + Placed, board now:\n",
      "['*', 0, '+']\n",
      "[0, '*', 0]\n",
      "['+', 0, 0]\n",
      "Enter the postition to place *:\n"
     ]
    },
    {
     "name": "stdin",
     "output_type": "stream",
     "text": [
      "x: 2\n",
      "y: 2\n"
     ]
    },
    {
     "name": "stdout",
     "output_type": "stream",
     "text": [
      "Symbol * Placed, board now:\n",
      "['*', 0, '+']\n",
      "[0, '*', 0]\n",
      "['+', 0, '*']\n",
      "Congratulations *, you won.\n"
     ]
    }
   ],
   "source": [
    "class TicTacToe:\n",
    "    board = {\n",
    "            0: [0, 0, 0],\n",
    "            1: [0, 0, 0],\n",
    "            2: [0, 0, 0],\n",
    "        }\n",
    "\n",
    "    def start_game(self):\n",
    "        self.welcome_note()\n",
    "        symbol_1, symbol_2 = self.set_symbols()\n",
    "        self.take_input_positions(symbol_1, symbol_2)\n",
    "\n",
    "\n",
    "    def welcome_note(self):\n",
    "        print(\"You are Welcome, lets begin with the game:\\n------------------------------------------\")\n",
    "        return\n",
    "\n",
    "    \n",
    "    def set_symbols(self):\n",
    "        while True:\n",
    "            symbol_1 = input(\"Enter the symbol for Player1 (cannot be 0): \")\n",
    "            if symbol_1 == \"0\": \n",
    "                print(\"Cannot be 0. Try another symbol.\")\n",
    "                continue\n",
    "            while True:\n",
    "                symbol_2 = input(\"Enter the unique symbol for Player2 (cannot be 0 and selection by Player1):\")\n",
    "                if symbol_2 == \"0\" or symbol_2 == symbol_1:\n",
    "                    print(f\"Cannot be {symbol_2}. Try another symbol.\")\n",
    "                    continue\n",
    "                break\n",
    "            break\n",
    "        return [symbol_1, symbol_2]\n",
    "\n",
    "\n",
    "    def take_input_positions(self, symbol_1, symbol_2):\n",
    "        valid_positions = [(x, y) for x in range(3) for y in range(3)]\n",
    "        current_player = symbol_1\n",
    "        count = 0\n",
    "        while True:\n",
    "            print(f\"Enter the postition to place {current_player}:\")\n",
    "            x, y = int(input(\"x:\")), int(input(\"y:\"))\n",
    "         \n",
    "            if (x, y) not in valid_positions or self.board[x][y] != 0:\n",
    "                print(\"Either the place is occupied or the position is invalid. Please select another position.\")\n",
    "                continue\n",
    "                \n",
    "            else:\n",
    "                self.board = self.update_board(current_player, x, y)\n",
    "                if self.check_win(current_player):\n",
    "                    print(f\"Congratulations {current_player}, you won.\")\n",
    "                    return\n",
    "                    \n",
    "            if current_player == symbol_1:\n",
    "                current_player = symbol_2\n",
    "            else:\n",
    "                current_player = symbol_1\n",
    "            count += 1\n",
    "            if count == 9:\n",
    "                break\n",
    "                \n",
    "        print(\"A draw game.\")\n",
    "\n",
    "\n",
    "    def update_board(self, symbol, x, y):\n",
    "        self.board[x][y] = symbol\n",
    "        print(f\"Symbol {symbol} Placed, board now:\")\n",
    "        for value in self.board.values():\n",
    "            print(value)\n",
    "        return self.board\n",
    "\n",
    "\n",
    "    def check_win(self, symbol):\n",
    "        win_condition = [symbol, symbol, symbol]\n",
    "    \n",
    "        #row check\n",
    "        if any([self.board[i][j] for j in range(3)] == win_condition for i in range(3)):\n",
    "            return True\n",
    "        #column check\n",
    "        if any([self.board[j][i] for j in range(3)] == win_condition for i in range(3)):\n",
    "            return True\n",
    "        #positive diagonal check\n",
    "        if [self.board[i][i] for i in range(3)] == win_condition:\n",
    "            return True\n",
    "        #negative diagonal check\n",
    "        if [self.board[i][2-i] for i in range(2,-1,-1)] == win_condition:\n",
    "            return True\n",
    "        return False\n",
    "\n",
    "\n",
    "game = TicTacToe()\n",
    "game.start_game()\n"
   ]
  },
  {
   "cell_type": "code",
   "execution_count": null,
   "id": "4893277d-929c-47e3-96c4-96249e3b95c1",
   "metadata": {},
   "outputs": [],
   "source": []
  }
 ],
 "metadata": {
  "kernelspec": {
   "display_name": "Python 3 (ipykernel)",
   "language": "python",
   "name": "python3"
  },
  "language_info": {
   "codemirror_mode": {
    "name": "ipython",
    "version": 3
   },
   "file_extension": ".py",
   "mimetype": "text/x-python",
   "name": "python",
   "nbconvert_exporter": "python",
   "pygments_lexer": "ipython3",
   "version": "3.12.5"
  }
 },
 "nbformat": 4,
 "nbformat_minor": 5
}
